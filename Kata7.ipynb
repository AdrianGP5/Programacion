{
 "cells": [
  {
   "cell_type": "code",
   "execution_count": 10,
   "metadata": {},
   "outputs": [],
   "source": [
    "# Declara dos variables\n",
    "new_planet = \"\"\n",
    "planets = []\n",
    "\n",
    "# Escribe el ciclo while solicitado\n",
    "while new_planet != \"done\":\n",
    "    new_planet = input('Ingresa un nuevo nombre de planeta o \"done\" cuando hayas terminado de ingresar nombres')\n",
    "    if new_planet:    \n",
    "        planets.append(new_planet)\n",
    "\n",
    "#print(planets)"
   ]
  },
  {
   "cell_type": "code",
   "execution_count": 11,
   "metadata": {},
   "outputs": [
    {
     "name": "stdout",
     "output_type": "stream",
     "text": [
      "Mercurio\n",
      "Venus\n",
      "Tierra\n",
      "Marte\n",
      "Júpiter\n",
      "Saturno\n",
      "Urano\n",
      "Neptuno\n",
      "done\n"
     ]
    }
   ],
   "source": [
    "# Escribe tu ciclo for para iterar en una lista de planetas\n",
    "\n",
    "for planet in planets:\n",
    "    print (planet)"
   ]
  }
 ],
 "metadata": {
  "interpreter": {
   "hash": "b8e162c37ec0c71c6fce0619c3afa7c44a4b6fdd9f180bcca023823acf0ef6e9"
  },
  "kernelspec": {
   "display_name": "Python 3.10.2 64-bit (system)",
   "language": "python",
   "name": "python3"
  },
  "language_info": {
   "codemirror_mode": {
    "name": "ipython",
    "version": 3
   },
   "file_extension": ".py",
   "mimetype": "text/x-python",
   "name": "python",
   "nbconvert_exporter": "python",
   "pygments_lexer": "ipython3",
   "version": "3.10.2"
  },
  "orig_nbformat": 4
 },
 "nbformat": 4,
 "nbformat_minor": 2
}

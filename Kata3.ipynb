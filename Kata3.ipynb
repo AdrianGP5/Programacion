{
 "cells": [
  {
   "cell_type": "code",
   "execution_count": 9,
   "metadata": {},
   "outputs": [
    {
     "name": "stdout",
     "output_type": "stream",
     "text": [
      "Ateroide se acerca a la tierra demasiado rápido\n"
     ]
    }
   ],
   "source": [
    "velAsteroide = 49\n",
    "if velAsteroide > 25:\n",
    "    print(\"Ateroide se acerca a la tierra demasiado rápido\")\n",
    "else:\n",
    "    print(\"Todo en orden\")"
   ]
  },
  {
   "cell_type": "code",
   "execution_count": 10,
   "metadata": {},
   "outputs": [
    {
     "name": "stdout",
     "output_type": "stream",
     "text": [
      "Todo en orden\n"
     ]
    }
   ],
   "source": [
    "velAsteroide = 19\n",
    "if velAsteroide < 20:\n",
    "    print(\"Todo en orden\")\n",
    "elif velAsteroide == 20:\n",
    "    print(\"Deben buscar un asteroide en el cielo\")\n",
    "else: \n",
    "    print(\"Deben buscar un asteroide en el cielo\")"
   ]
  },
  {
   "cell_type": "code",
   "execution_count": 26,
   "metadata": {},
   "outputs": [
    {
     "name": "stdout",
     "output_type": "stream",
     "text": [
      "Un asteroide de gran tamaño se acerca rápidamente\n"
     ]
    }
   ],
   "source": [
    "velAsteroide = 30\n",
    "tamAsteroide = 30\n",
    "if tamAsteroide < 1000:\n",
    "    if tamAsteroide >= 25 and velAsteroide > 25:\n",
    "        print(\"Un asteroide de gran tamaño se acerca rápidamente\")\n",
    "    elif velAsteroide >= 20:\n",
    "        print(\"Deben buscar un asteroide en el cielo\")\n",
    "    elif tamAsteroide < 25:\n",
    "        print(\"Todo en orden\")\n",
    "    else:\n",
    "        print(\"Todo en orden\")\n",
    "else:\n",
    "    print(\"¿Seguimos vivos?\")"
   ]
  }
 ],
 "metadata": {
  "interpreter": {
   "hash": "b8e162c37ec0c71c6fce0619c3afa7c44a4b6fdd9f180bcca023823acf0ef6e9"
  },
  "kernelspec": {
   "display_name": "Python 3.10.2 64-bit (system)",
   "language": "python",
   "name": "python3"
  },
  "language_info": {
   "codemirror_mode": {
    "name": "ipython",
    "version": 3
   },
   "file_extension": ".py",
   "mimetype": "text/x-python",
   "name": "python",
   "nbconvert_exporter": "python",
   "pygments_lexer": "ipython3",
   "version": "3.10.2"
  },
  "orig_nbformat": 4
 },
 "nbformat": 4,
 "nbformat_minor": 2
}

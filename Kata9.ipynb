{
 "cells": [
  {
   "cell_type": "code",
   "execution_count": 5,
   "metadata": {},
   "outputs": [
    {
     "name": "stdout",
     "output_type": "stream",
     "text": [
      "88.33333333333333\n",
      "88.33333333333333\n"
     ]
    }
   ],
   "source": [
    "# Función para leer 3 tanques de combustible y muestre el promedio\n",
    "def informeCombustible(tanque1,tanque2,tanque3):\n",
    "    return (tanque1 + tanque2 + tanque3)/3\n",
    "\n",
    "# Llamamos a la función que genera el reporte print(funcion(tanque1, tanque2, tanque3))\n",
    "print(informeCombustible(90,75,100))\n",
    "\n",
    "# Función promedio \n",
    "def promedio(*args):\n",
    "    return sum(args)/len(args)\n",
    "\n",
    "# Actualiza la función\n",
    "def informeCombustible2(tanque1,tanque2,tanque3):\n",
    "    return promedio(tanque1,tanque2,tanque3)\n",
    "\n",
    "print(informeCombustible2(90,75,100))"
   ]
  },
  {
   "cell_type": "code",
   "execution_count": 14,
   "metadata": {},
   "outputs": [
    {
     "name": "stdout",
     "output_type": "stream",
     "text": [
      "\n",
      "    Misión a: Marte\n",
      "    Tiempo de viaje: 30\n",
      "    Combustible: 3000\n",
      "\n",
      "    Misión a: marte\n",
      "    Tiempo de viaje: 60\n",
      "    Combustible: 3000\n",
      "\n",
      "    Misión a: marte\n",
      "    Tiempo de viaje: 90\n",
      "    Combustible: 5000\n",
      "\ttanque izquierdo: 3000 litros\n",
      "\ttanque derecho: 2000 litros\n"
     ]
    }
   ],
   "source": [
    "# Ejercicio 2\n",
    "\n",
    "# Función con un informe preciso de la misión. Considera hora de prelanzamiento, tiempo de vuelo, destino, tanque externo y tanque interno\n",
    "def informe(horaPrelanzamiento,tiempoVuelo,destino,tanqueExterno,tanqueInterno):\n",
    "    return f\"\"\"\n",
    "    Misión a: {destino}\n",
    "    Tiempo de viaje: {horaPrelanzamiento + tiempoVuelo}\n",
    "    Combustible: {tanqueExterno + tanqueInterno}\"\"\"\n",
    "\n",
    "print(informe(10,20,\"Marte\",1000,2000))\n",
    "\n",
    "# Escribe tu nueva función de reporte considerando lo anterior\n",
    "def informe2(destino, *minutes, **fuel_reservoirs):\n",
    "    return f\"\"\"\n",
    "    Misión a: {destino}\n",
    "    Tiempo de viaje: {sum(minutes)}\n",
    "    Combustible: {sum(fuel_reservoirs.values())}\"\"\"\n",
    "\n",
    "print(informe2(\"marte\",10,20,30, izquierdo = 1000, derecho = 2000))\n",
    "\n",
    "# Escribe tu nueva función\n",
    "def informe2(destino, *minutes, **fuel_reservoirs):\n",
    "    reporte = f\"\"\"\n",
    "    Misión a: {destino}\n",
    "    Tiempo de viaje: {sum(minutes)}\n",
    "    Combustible: {sum(fuel_reservoirs.values())}\"\"\"\n",
    "\n",
    "    for tanque, capacidad in fuel_reservoirs.items():\n",
    "        reporte = reporte + \"\\n\\ttanque \" + str(tanque) + \": \" + str(capacidad) + \" litros\"\n",
    "    return reporte\n",
    "\n",
    "print(informe2(\"marte\",40,20,30, izquierdo = 3000, derecho = 2000))"
   ]
  }
 ],
 "metadata": {
  "interpreter": {
   "hash": "b8e162c37ec0c71c6fce0619c3afa7c44a4b6fdd9f180bcca023823acf0ef6e9"
  },
  "kernelspec": {
   "display_name": "Python 3.10.2 64-bit (system)",
   "language": "python",
   "name": "python3"
  },
  "language_info": {
   "codemirror_mode": {
    "name": "ipython",
    "version": 3
   },
   "file_extension": ".py",
   "mimetype": "text/x-python",
   "name": "python",
   "nbconvert_exporter": "python",
   "pygments_lexer": "ipython3",
   "version": "3.10.2"
  },
  "orig_nbformat": 4
 },
 "nbformat": 4,
 "nbformat_minor": 2
}
